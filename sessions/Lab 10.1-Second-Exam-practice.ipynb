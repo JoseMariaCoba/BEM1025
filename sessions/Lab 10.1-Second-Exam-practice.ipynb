{
 "cells": [
  {
   "cell_type": "markdown",
   "metadata": {},
   "source": [
    "# BEM 1025: Programming for Business Analytics\n",
    "#   Final Exam practice "
   ]
  },
  {
   "cell_type": "markdown",
   "metadata": {},
   "source": [
    "# Provide your first and last name and your student ID in the following cells"
   ]
  },
  {
   "cell_type": "markdown",
   "metadata": {},
   "source": [
    "### First name and last name:"
   ]
  },
  {
   "cell_type": "code",
   "execution_count": null,
   "metadata": {},
   "outputs": [],
   "source": []
  },
  {
   "cell_type": "markdown",
   "metadata": {},
   "source": [
    "### Student ID:"
   ]
  },
  {
   "cell_type": "code",
   "execution_count": null,
   "metadata": {},
   "outputs": [],
   "source": []
  },
  {
   "cell_type": "markdown",
   "metadata": {},
   "source": [
    "# **You need to save this file as PDF that includes the outcome specified for each question. Rename the file with your student ID**"
   ]
  },
  {
   "cell_type": "markdown",
   "metadata": {},
   "source": []
  },
  {
   "cell_type": "markdown",
   "metadata": {},
   "source": [
    "# For all questions YOU HAVE TO WRITE SOME CORRECT  PYTHON CODE! simply giving the final answer is not enough!\n"
   ]
  },
  {
   "cell_type": "code",
   "execution_count": 68,
   "metadata": {},
   "outputs": [],
   "source": [
    "# we import the library pandas and give it the \"pd\" nickname\n",
    "import pandas as pd\n",
    "import numpy as np\n",
    "import seaborn as sns\n",
    "import matplotlib.pyplot as plt\n",
    "import pandas as pd\n",
    "import numpy as np"
   ]
  },
  {
   "cell_type": "code",
   "execution_count": 69,
   "metadata": {},
   "outputs": [
    {
     "data": {
      "text/plain": [
       "Index(['Row ID', 'Order ID', 'Order Date', 'Ship Date', 'Ship Mode',\n",
       "       'Customer ID', 'Customer Name', 'Segment', 'Country', 'City', 'State',\n",
       "       'Postal Code', 'Region', 'Product ID', 'Category', 'Sub-Category',\n",
       "       'Product Name', 'Discount', 'Profit', 'Quantity', 'Sales',\n",
       "       'date_formatted', 'effective_profit'],\n",
       "      dtype='object', name='variable')"
      ]
     },
     "execution_count": 69,
     "metadata": {},
     "output_type": "execute_result"
    }
   ],
   "source": [
    "df.columns"
   ]
  },
  {
   "cell_type": "markdown",
   "metadata": {},
   "source": [
    "### You will work on the following dataframe for this assignment\n"
   ]
  },
  {
   "cell_type": "code",
   "execution_count": 70,
   "metadata": {},
   "outputs": [
    {
     "data": {
      "text/html": [
       "<div>\n",
       "<style scoped>\n",
       "    .dataframe tbody tr th:only-of-type {\n",
       "        vertical-align: middle;\n",
       "    }\n",
       "\n",
       "    .dataframe tbody tr th {\n",
       "        vertical-align: top;\n",
       "    }\n",
       "\n",
       "    .dataframe thead th {\n",
       "        text-align: right;\n",
       "    }\n",
       "</style>\n",
       "<table border=\"1\" class=\"dataframe\">\n",
       "  <thead>\n",
       "    <tr style=\"text-align: right;\">\n",
       "      <th>variable</th>\n",
       "      <th>Row ID</th>\n",
       "      <th>Order ID</th>\n",
       "      <th>Order Date</th>\n",
       "      <th>Ship Date</th>\n",
       "      <th>Ship Mode</th>\n",
       "      <th>Customer ID</th>\n",
       "      <th>Customer Name</th>\n",
       "      <th>Segment</th>\n",
       "      <th>Country</th>\n",
       "      <th>City</th>\n",
       "      <th>...</th>\n",
       "      <th>Postal Code</th>\n",
       "      <th>Region</th>\n",
       "      <th>Product ID</th>\n",
       "      <th>Category</th>\n",
       "      <th>Sub-Category</th>\n",
       "      <th>Product Name</th>\n",
       "      <th>Discount</th>\n",
       "      <th>Profit</th>\n",
       "      <th>Quantity</th>\n",
       "      <th>Sales</th>\n",
       "    </tr>\n",
       "  </thead>\n",
       "  <tbody>\n",
       "    <tr>\n",
       "      <th>0</th>\n",
       "      <td>1</td>\n",
       "      <td>CA-2013-152156</td>\n",
       "      <td>2013-11-09</td>\n",
       "      <td>2013-11-12</td>\n",
       "      <td>Second Class</td>\n",
       "      <td>CG-12520</td>\n",
       "      <td>Claire Gute</td>\n",
       "      <td>Consumer</td>\n",
       "      <td>United States</td>\n",
       "      <td>Henderson</td>\n",
       "      <td>...</td>\n",
       "      <td>42420</td>\n",
       "      <td>South</td>\n",
       "      <td>FUR-BO-10001798</td>\n",
       "      <td>Furniture</td>\n",
       "      <td>Bookcases</td>\n",
       "      <td>Bush Somerset Collection Bookcase</td>\n",
       "      <td>0.00</td>\n",
       "      <td>41.9136</td>\n",
       "      <td>2.0</td>\n",
       "      <td>261.9600</td>\n",
       "    </tr>\n",
       "    <tr>\n",
       "      <th>1</th>\n",
       "      <td>2</td>\n",
       "      <td>CA-2013-152156</td>\n",
       "      <td>2013-11-09</td>\n",
       "      <td>2013-11-12</td>\n",
       "      <td>Second Class</td>\n",
       "      <td>CG-12520</td>\n",
       "      <td>Claire Gute</td>\n",
       "      <td>Consumer</td>\n",
       "      <td>United States</td>\n",
       "      <td>Henderson</td>\n",
       "      <td>...</td>\n",
       "      <td>42420</td>\n",
       "      <td>South</td>\n",
       "      <td>FUR-CH-10000454</td>\n",
       "      <td>Furniture</td>\n",
       "      <td>Chairs</td>\n",
       "      <td>Hon Deluxe Fabric Upholstered Stacking Chairs,...</td>\n",
       "      <td>0.00</td>\n",
       "      <td>219.5820</td>\n",
       "      <td>3.0</td>\n",
       "      <td>731.9400</td>\n",
       "    </tr>\n",
       "    <tr>\n",
       "      <th>2</th>\n",
       "      <td>3</td>\n",
       "      <td>CA-2013-138688</td>\n",
       "      <td>2013-06-13</td>\n",
       "      <td>2013-06-17</td>\n",
       "      <td>Second Class</td>\n",
       "      <td>DV-13045</td>\n",
       "      <td>Darrin Van Huff</td>\n",
       "      <td>Corporate</td>\n",
       "      <td>United States</td>\n",
       "      <td>Los Angeles</td>\n",
       "      <td>...</td>\n",
       "      <td>90036</td>\n",
       "      <td>West</td>\n",
       "      <td>OFF-LA-10000240</td>\n",
       "      <td>Office Supplies</td>\n",
       "      <td>Labels</td>\n",
       "      <td>Self-Adhesive Address Labels for Typewriters b...</td>\n",
       "      <td>0.00</td>\n",
       "      <td>6.8714</td>\n",
       "      <td>2.0</td>\n",
       "      <td>14.6200</td>\n",
       "    </tr>\n",
       "    <tr>\n",
       "      <th>3</th>\n",
       "      <td>4</td>\n",
       "      <td>US-2012-108966</td>\n",
       "      <td>2012-10-11</td>\n",
       "      <td>2012-10-18</td>\n",
       "      <td>Standard Class</td>\n",
       "      <td>SO-20335</td>\n",
       "      <td>Sean O'Donnell</td>\n",
       "      <td>Consumer</td>\n",
       "      <td>United States</td>\n",
       "      <td>Fort Lauderdale</td>\n",
       "      <td>...</td>\n",
       "      <td>33311</td>\n",
       "      <td>South</td>\n",
       "      <td>FUR-TA-10000577</td>\n",
       "      <td>Furniture</td>\n",
       "      <td>Tables</td>\n",
       "      <td>Bretford CR4500 Series Slim Rectangular Table</td>\n",
       "      <td>0.45</td>\n",
       "      <td>-383.0310</td>\n",
       "      <td>5.0</td>\n",
       "      <td>957.5775</td>\n",
       "    </tr>\n",
       "    <tr>\n",
       "      <th>4</th>\n",
       "      <td>5</td>\n",
       "      <td>US-2012-108966</td>\n",
       "      <td>2012-10-11</td>\n",
       "      <td>2012-10-18</td>\n",
       "      <td>Standard Class</td>\n",
       "      <td>SO-20335</td>\n",
       "      <td>Sean O'Donnell</td>\n",
       "      <td>Consumer</td>\n",
       "      <td>United States</td>\n",
       "      <td>Fort Lauderdale</td>\n",
       "      <td>...</td>\n",
       "      <td>33311</td>\n",
       "      <td>South</td>\n",
       "      <td>OFF-ST-10000760</td>\n",
       "      <td>Office Supplies</td>\n",
       "      <td>Storage</td>\n",
       "      <td>Eldon Fold 'N Roll Cart System</td>\n",
       "      <td>0.20</td>\n",
       "      <td>2.5164</td>\n",
       "      <td>2.0</td>\n",
       "      <td>22.3680</td>\n",
       "    </tr>\n",
       "  </tbody>\n",
       "</table>\n",
       "<p>5 rows × 21 columns</p>\n",
       "</div>"
      ],
      "text/plain": [
       "variable  Row ID        Order ID Order Date  Ship Date       Ship Mode  \\\n",
       "0              1  CA-2013-152156 2013-11-09 2013-11-12    Second Class   \n",
       "1              2  CA-2013-152156 2013-11-09 2013-11-12    Second Class   \n",
       "2              3  CA-2013-138688 2013-06-13 2013-06-17    Second Class   \n",
       "3              4  US-2012-108966 2012-10-11 2012-10-18  Standard Class   \n",
       "4              5  US-2012-108966 2012-10-11 2012-10-18  Standard Class   \n",
       "\n",
       "variable Customer ID    Customer Name    Segment        Country  \\\n",
       "0           CG-12520      Claire Gute   Consumer  United States   \n",
       "1           CG-12520      Claire Gute   Consumer  United States   \n",
       "2           DV-13045  Darrin Van Huff  Corporate  United States   \n",
       "3           SO-20335   Sean O'Donnell   Consumer  United States   \n",
       "4           SO-20335   Sean O'Donnell   Consumer  United States   \n",
       "\n",
       "variable             City    ...    Postal Code  Region       Product ID  \\\n",
       "0               Henderson    ...          42420   South  FUR-BO-10001798   \n",
       "1               Henderson    ...          42420   South  FUR-CH-10000454   \n",
       "2             Los Angeles    ...          90036    West  OFF-LA-10000240   \n",
       "3         Fort Lauderdale    ...          33311   South  FUR-TA-10000577   \n",
       "4         Fort Lauderdale    ...          33311   South  OFF-ST-10000760   \n",
       "\n",
       "variable         Category Sub-Category  \\\n",
       "0               Furniture    Bookcases   \n",
       "1               Furniture       Chairs   \n",
       "2         Office Supplies       Labels   \n",
       "3               Furniture       Tables   \n",
       "4         Office Supplies      Storage   \n",
       "\n",
       "variable                                       Product Name Discount  \\\n",
       "0                         Bush Somerset Collection Bookcase     0.00   \n",
       "1         Hon Deluxe Fabric Upholstered Stacking Chairs,...     0.00   \n",
       "2         Self-Adhesive Address Labels for Typewriters b...     0.00   \n",
       "3             Bretford CR4500 Series Slim Rectangular Table     0.45   \n",
       "4                            Eldon Fold 'N Roll Cart System     0.20   \n",
       "\n",
       "variable    Profit  Quantity     Sales  \n",
       "0          41.9136       2.0  261.9600  \n",
       "1         219.5820       3.0  731.9400  \n",
       "2           6.8714       2.0   14.6200  \n",
       "3        -383.0310       5.0  957.5775  \n",
       "4           2.5164       2.0   22.3680  \n",
       "\n",
       "[5 rows x 21 columns]"
      ]
     },
     "execution_count": 70,
     "metadata": {},
     "output_type": "execute_result"
    }
   ],
   "source": [
    "# similar to reading data from csv file, we can read data from excel sheets, we need to specify which column we need to read data from\n",
    "# this data is a sample from comercial software Tableau\n",
    "df_=pd.read_excel('Superstore.xls')\n",
    "df=pd.pivot_table(df_,index=['Row ID', 'Order ID', 'Order Date', 'Ship Date', 'Ship Mode','Customer ID', \n",
    "                         'Customer Name', 'Segment', 'Country', 'City', 'State','Postal Code', 'Region',\n",
    "                         'Product ID', 'Category', 'Sub-Category','Product Name'],columns=['variable'],values= 'value')\n",
    "df.reset_index(inplace=True)\n",
    "df.head()"
   ]
  },
  {
   "cell_type": "code",
   "execution_count": 71,
   "metadata": {},
   "outputs": [
    {
     "name": "stdout",
     "output_type": "stream",
     "text": [
      "<class 'pandas.core.frame.DataFrame'>\n",
      "RangeIndex: 9994 entries, 0 to 9993\n",
      "Data columns (total 21 columns):\n",
      "Row ID           9994 non-null int64\n",
      "Order ID         9994 non-null object\n",
      "Order Date       9994 non-null datetime64[ns]\n",
      "Ship Date        9994 non-null datetime64[ns]\n",
      "Ship Mode        9994 non-null object\n",
      "Customer ID      9994 non-null object\n",
      "Customer Name    9994 non-null object\n",
      "Segment          9994 non-null object\n",
      "Country          9994 non-null object\n",
      "City             9994 non-null object\n",
      "State            9994 non-null object\n",
      "Postal Code      9994 non-null int64\n",
      "Region           9994 non-null object\n",
      "Product ID       9994 non-null object\n",
      "Category         9994 non-null object\n",
      "Sub-Category     9994 non-null object\n",
      "Product Name     9994 non-null object\n",
      "Discount         9994 non-null float64\n",
      "Profit           9994 non-null float64\n",
      "Quantity         9994 non-null float64\n",
      "Sales            9994 non-null float64\n",
      "dtypes: datetime64[ns](2), float64(4), int64(2), object(13)\n",
      "memory usage: 1.6+ MB\n"
     ]
    }
   ],
   "source": [
    "df.info()"
   ]
  },
  {
   "cell_type": "markdown",
   "metadata": {},
   "source": [
    "## Assignment 1 \n",
    "### Find orders with sales value of 300 or more, discount above .01 and containing word 'Chair' or 'Table' or 'Desk' in their product names.\n",
    "\n",
    "### **OUTCOME:** Provide the **head** and **shape** of the outcome dataframe"
   ]
  },
  {
   "cell_type": "code",
   "execution_count": null,
   "metadata": {},
   "outputs": [],
   "source": []
  },
  {
   "cell_type": "markdown",
   "metadata": {},
   "source": [
    "## Assignment 2\n",
    "### Find the 5 top cities with lowest average sales\n",
    "\n",
    "### **OUTCOME:** Provide the list of the 5 cities (and their corresponding state and countries)\n",
    "### Tip: you need to find the average price for all given cities (and their corresponding neighbourhood) and then sort them by sales"
   ]
  },
  {
   "cell_type": "code",
   "execution_count": null,
   "metadata": {},
   "outputs": [],
   "source": []
  },
  {
   "cell_type": "markdown",
   "metadata": {},
   "source": [
    "## Assignment 3\n",
    "### Transform the dataframe into a long dataframe to include a column representing geography (Country, State, and City) column representing its value\n",
    "\n",
    "### **OUTCOME:** Provide the **head** and **shape** of the outcome"
   ]
  },
  {
   "cell_type": "code",
   "execution_count": null,
   "metadata": {},
   "outputs": [],
   "source": []
  },
  {
   "cell_type": "code",
   "execution_count": 79,
   "metadata": {},
   "outputs": [
    {
     "data": {
      "text/plain": [
       "(29982, 20)"
      ]
     },
     "execution_count": 79,
     "metadata": {},
     "output_type": "execute_result"
    }
   ],
   "source": [
    "df_melt.shape"
   ]
  },
  {
   "cell_type": "markdown",
   "metadata": {},
   "source": [
    "## Assignment 4\n",
    "### Plot the relationship between year the order was made and the average Proft for various product categories\n",
    "\n",
    "### **OUTCOME:** Create a plot where x represents year the order was made, y represents average profit, and lines with different colors represent product category\n",
    "\n",
    "### Tip: You need to group and average by year (use pd.Groupper and Groupby) and then plot using seaborn"
   ]
  },
  {
   "cell_type": "markdown",
   "metadata": {},
   "source": [
    "https://pandas.pydata.org/pandas-docs/stable/reference/api/pandas.Grouper.html"
   ]
  },
  {
   "cell_type": "code",
   "execution_count": 80,
   "metadata": {},
   "outputs": [],
   "source": [
    "df['date_formatted']=pd.to_datetime(df['Order Date'])"
   ]
  },
  {
   "cell_type": "code",
   "execution_count": 83,
   "metadata": {},
   "outputs": [
    {
     "data": {
      "text/plain": [
       "<matplotlib.axes._subplots.AxesSubplot at 0x7fa6f2364c88>"
      ]
     },
     "execution_count": 83,
     "metadata": {},
     "output_type": "execute_result"
    },
    {
     "data": {
      "image/png": "[encoded data removed]",
      "text/plain": [
       "<Figure size 842.4x595.44 with 1 Axes>"
      ]
     },
     "metadata": {},
     "output_type": "display_data"
    }
   ],
   "source": [
    "a4_dims = (11.7, 8.27)\n",
    "fig, ax = plt.subplots(figsize=a4_dims)\n",
    "df_year=df.groupby(['Category',pd.Grouper(key='date_formatted',freq='1y')]).mean().reset_index()\n",
    "sns.lineplot(data = df_year,x=\"date_formatted\", y=\"Profit\",hue='Category')"
   ]
  },
  {
   "cell_type": "markdown",
   "metadata": {},
   "source": [
    "## Assignment 5\n",
    "### Plot the distribution of Discount for various Regions and product Caterogy\n",
    "\n",
    "### **OUTCOME:** Create a facet plot where x represents 'Disocunt', y represents frequency, color represents 'Category', columns represent 'Region'\n",
    "### Tip: you need to combine FacetGrid with plt.hist"
   ]
  },
  {
   "cell_type": "code",
   "execution_count": 88,
   "metadata": {},
   "outputs": [
    {
     "data": {
      "image/png": "[encoded data removed]",
      "text/plain": [
       "<Figure size 974.875x216 with 4 Axes>"
      ]
     },
     "metadata": {},
     "output_type": "display_data"
    }
   ],
   "source": [
    "facet = sns.FacetGrid(df, col='Region', hue='Category')\n",
    "facet = facet.map(plt.hist,'Discount')\n",
    "facet = facet.add_legend()"
   ]
  },
  {
   "cell_type": "markdown",
   "metadata": {},
   "source": [
    "## Assignment 6 \n",
    "### Creat a new colum where you substract the shiping cost from profit. the shipping cost per unit is as follows:\n",
    "\n",
    "'Second Class': 2\n",
    "'Standard Class':5 \n",
    "'First Class':10\n",
    "'Same Day':30\n",
    "\n",
    "\n",
    "### **OUTCOME:** Like the following table\n",
    "## **Tip** you need to use the apply function and multipy the quantity by the shipping cost and substract that from profit"
   ]
  },
  {
   "cell_type": "code",
   "execution_count": 89,
   "metadata": {},
   "outputs": [
    {
     "data": {
      "text/html": [
       "<div>\n",
       "<style scoped>\n",
       "    .dataframe tbody tr th:only-of-type {\n",
       "        vertical-align: middle;\n",
       "    }\n",
       "\n",
       "    .dataframe tbody tr th {\n",
       "        vertical-align: top;\n",
       "    }\n",
       "\n",
       "    .dataframe thead th {\n",
       "        text-align: right;\n",
       "    }\n",
       "</style>\n",
       "<table border=\"1\" class=\"dataframe\">\n",
       "  <thead>\n",
       "    <tr style=\"text-align: right;\">\n",
       "      <th>variable</th>\n",
       "      <th>Row ID</th>\n",
       "      <th>Order ID</th>\n",
       "      <th>Order Date</th>\n",
       "      <th>Ship Date</th>\n",
       "      <th>Ship Mode</th>\n",
       "      <th>Customer ID</th>\n",
       "      <th>Customer Name</th>\n",
       "      <th>Segment</th>\n",
       "      <th>Country</th>\n",
       "      <th>City</th>\n",
       "      <th>...</th>\n",
       "      <th>Product ID</th>\n",
       "      <th>Category</th>\n",
       "      <th>Sub-Category</th>\n",
       "      <th>Product Name</th>\n",
       "      <th>Discount</th>\n",
       "      <th>Profit</th>\n",
       "      <th>Quantity</th>\n",
       "      <th>Sales</th>\n",
       "      <th>date_formatted</th>\n",
       "      <th>effective_profit</th>\n",
       "    </tr>\n",
       "  </thead>\n",
       "  <tbody>\n",
       "    <tr>\n",
       "      <th>0</th>\n",
       "      <td>1</td>\n",
       "      <td>CA-2013-152156</td>\n",
       "      <td>2013-11-09</td>\n",
       "      <td>2013-11-12</td>\n",
       "      <td>Second Class</td>\n",
       "      <td>CG-12520</td>\n",
       "      <td>Claire Gute</td>\n",
       "      <td>Consumer</td>\n",
       "      <td>United States</td>\n",
       "      <td>Henderson</td>\n",
       "      <td>...</td>\n",
       "      <td>FUR-BO-10001798</td>\n",
       "      <td>Furniture</td>\n",
       "      <td>Bookcases</td>\n",
       "      <td>Bush Somerset Collection Bookcase</td>\n",
       "      <td>0.00</td>\n",
       "      <td>41.9136</td>\n",
       "      <td>2.0</td>\n",
       "      <td>261.9600</td>\n",
       "      <td>2013-11-09</td>\n",
       "      <td>37.9136</td>\n",
       "    </tr>\n",
       "    <tr>\n",
       "      <th>1</th>\n",
       "      <td>2</td>\n",
       "      <td>CA-2013-152156</td>\n",
       "      <td>2013-11-09</td>\n",
       "      <td>2013-11-12</td>\n",
       "      <td>Second Class</td>\n",
       "      <td>CG-12520</td>\n",
       "      <td>Claire Gute</td>\n",
       "      <td>Consumer</td>\n",
       "      <td>United States</td>\n",
       "      <td>Henderson</td>\n",
       "      <td>...</td>\n",
       "      <td>FUR-CH-10000454</td>\n",
       "      <td>Furniture</td>\n",
       "      <td>Chairs</td>\n",
       "      <td>Hon Deluxe Fabric Upholstered Stacking Chairs,...</td>\n",
       "      <td>0.00</td>\n",
       "      <td>219.5820</td>\n",
       "      <td>3.0</td>\n",
       "      <td>731.9400</td>\n",
       "      <td>2013-11-09</td>\n",
       "      <td>213.5820</td>\n",
       "    </tr>\n",
       "    <tr>\n",
       "      <th>2</th>\n",
       "      <td>3</td>\n",
       "      <td>CA-2013-138688</td>\n",
       "      <td>2013-06-13</td>\n",
       "      <td>2013-06-17</td>\n",
       "      <td>Second Class</td>\n",
       "      <td>DV-13045</td>\n",
       "      <td>Darrin Van Huff</td>\n",
       "      <td>Corporate</td>\n",
       "      <td>United States</td>\n",
       "      <td>Los Angeles</td>\n",
       "      <td>...</td>\n",
       "      <td>OFF-LA-10000240</td>\n",
       "      <td>Office Supplies</td>\n",
       "      <td>Labels</td>\n",
       "      <td>Self-Adhesive Address Labels for Typewriters b...</td>\n",
       "      <td>0.00</td>\n",
       "      <td>6.8714</td>\n",
       "      <td>2.0</td>\n",
       "      <td>14.6200</td>\n",
       "      <td>2013-06-13</td>\n",
       "      <td>2.8714</td>\n",
       "    </tr>\n",
       "    <tr>\n",
       "      <th>3</th>\n",
       "      <td>4</td>\n",
       "      <td>US-2012-108966</td>\n",
       "      <td>2012-10-11</td>\n",
       "      <td>2012-10-18</td>\n",
       "      <td>Standard Class</td>\n",
       "      <td>SO-20335</td>\n",
       "      <td>Sean O'Donnell</td>\n",
       "      <td>Consumer</td>\n",
       "      <td>United States</td>\n",
       "      <td>Fort Lauderdale</td>\n",
       "      <td>...</td>\n",
       "      <td>FUR-TA-10000577</td>\n",
       "      <td>Furniture</td>\n",
       "      <td>Tables</td>\n",
       "      <td>Bretford CR4500 Series Slim Rectangular Table</td>\n",
       "      <td>0.45</td>\n",
       "      <td>-383.0310</td>\n",
       "      <td>5.0</td>\n",
       "      <td>957.5775</td>\n",
       "      <td>2012-10-11</td>\n",
       "      <td>-408.0310</td>\n",
       "    </tr>\n",
       "    <tr>\n",
       "      <th>4</th>\n",
       "      <td>5</td>\n",
       "      <td>US-2012-108966</td>\n",
       "      <td>2012-10-11</td>\n",
       "      <td>2012-10-18</td>\n",
       "      <td>Standard Class</td>\n",
       "      <td>SO-20335</td>\n",
       "      <td>Sean O'Donnell</td>\n",
       "      <td>Consumer</td>\n",
       "      <td>United States</td>\n",
       "      <td>Fort Lauderdale</td>\n",
       "      <td>...</td>\n",
       "      <td>OFF-ST-10000760</td>\n",
       "      <td>Office Supplies</td>\n",
       "      <td>Storage</td>\n",
       "      <td>Eldon Fold 'N Roll Cart System</td>\n",
       "      <td>0.20</td>\n",
       "      <td>2.5164</td>\n",
       "      <td>2.0</td>\n",
       "      <td>22.3680</td>\n",
       "      <td>2012-10-11</td>\n",
       "      <td>-7.4836</td>\n",
       "    </tr>\n",
       "  </tbody>\n",
       "</table>\n",
       "<p>5 rows × 23 columns</p>\n",
       "</div>"
      ],
      "text/plain": [
       "variable  Row ID        Order ID Order Date  Ship Date       Ship Mode  \\\n",
       "0              1  CA-2013-152156 2013-11-09 2013-11-12    Second Class   \n",
       "1              2  CA-2013-152156 2013-11-09 2013-11-12    Second Class   \n",
       "2              3  CA-2013-138688 2013-06-13 2013-06-17    Second Class   \n",
       "3              4  US-2012-108966 2012-10-11 2012-10-18  Standard Class   \n",
       "4              5  US-2012-108966 2012-10-11 2012-10-18  Standard Class   \n",
       "\n",
       "variable Customer ID    Customer Name    Segment        Country  \\\n",
       "0           CG-12520      Claire Gute   Consumer  United States   \n",
       "1           CG-12520      Claire Gute   Consumer  United States   \n",
       "2           DV-13045  Darrin Van Huff  Corporate  United States   \n",
       "3           SO-20335   Sean O'Donnell   Consumer  United States   \n",
       "4           SO-20335   Sean O'Donnell   Consumer  United States   \n",
       "\n",
       "variable             City        ...              Product ID         Category  \\\n",
       "0               Henderson        ...         FUR-BO-10001798        Furniture   \n",
       "1               Henderson        ...         FUR-CH-10000454        Furniture   \n",
       "2             Los Angeles        ...         OFF-LA-10000240  Office Supplies   \n",
       "3         Fort Lauderdale        ...         FUR-TA-10000577        Furniture   \n",
       "4         Fort Lauderdale        ...         OFF-ST-10000760  Office Supplies   \n",
       "\n",
       "variable Sub-Category                                       Product Name  \\\n",
       "0           Bookcases                  Bush Somerset Collection Bookcase   \n",
       "1              Chairs  Hon Deluxe Fabric Upholstered Stacking Chairs,...   \n",
       "2              Labels  Self-Adhesive Address Labels for Typewriters b...   \n",
       "3              Tables      Bretford CR4500 Series Slim Rectangular Table   \n",
       "4             Storage                     Eldon Fold 'N Roll Cart System   \n",
       "\n",
       "variable Discount    Profit Quantity     Sales  date_formatted  \\\n",
       "0            0.00   41.9136      2.0  261.9600      2013-11-09   \n",
       "1            0.00  219.5820      3.0  731.9400      2013-11-09   \n",
       "2            0.00    6.8714      2.0   14.6200      2013-06-13   \n",
       "3            0.45 -383.0310      5.0  957.5775      2012-10-11   \n",
       "4            0.20    2.5164      2.0   22.3680      2012-10-11   \n",
       "\n",
       "variable  effective_profit  \n",
       "0                  37.9136  \n",
       "1                 213.5820  \n",
       "2                   2.8714  \n",
       "3                -408.0310  \n",
       "4                  -7.4836  \n",
       "\n",
       "[5 rows x 23 columns]"
      ]
     },
     "execution_count": 89,
     "metadata": {},
     "output_type": "execute_result"
    }
   ],
   "source": [
    "def function_shiping_cost(row):\n",
    "    \n",
    "    if row['Ship Mode']=='Second Class':\n",
    "        unit_shipping_cost=2\n",
    "\n",
    "    if row['Ship Mode']=='Standard Class':\n",
    "        unit_shipping_cost=5\n",
    "\n",
    "    if row['Ship Mode']=='First Class':\n",
    "        unit_shipping_cost=10\n",
    "        \n",
    "    if row['Ship Mode']=='Same Day':\n",
    "        unit_shipping_cost=30\n",
    "    total_shipping_cost=row['Quantity']*unit_shipping_cost\n",
    "    effective_profit=row['Profit']-total_shipping_cost\n",
    "    return effective_profit\n",
    "\n",
    "df['effective_profit']=df.apply(function_shiping_cost,axis=1)\n",
    "df.head()"
   ]
  },
  {
   "cell_type": "code",
   "execution_count": null,
   "metadata": {},
   "outputs": [],
   "source": []
  }
 ],
 "metadata": {
  "kernelspec": {
   "display_name": "py36",
   "language": "python",
   "name": "python3"
  },
  "language_info": {
   "codemirror_mode": {
    "name": "ipython",
    "version": 3
   },
   "file_extension": ".py",
   "mimetype": "text/x-python",
   "name": "python",
   "nbconvert_exporter": "python",
   "pygments_lexer": "ipython3",
   "version": "3.6.6"
  }
 },
 "nbformat": 4,
 "nbformat_minor": 4
}
